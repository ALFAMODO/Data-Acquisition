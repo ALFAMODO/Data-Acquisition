{
 "cells": [
  {
   "cell_type": "markdown",
   "id": "8e1ab80e",
   "metadata": {},
   "source": [
    "### Homework. Can you write the functions in one line code? Please submit your code and a few test cases in both ipynb and HTML formats on canvas."
   ]
  },
  {
   "cell_type": "markdown",
   "id": "8b7ceada",
   "metadata": {},
   "source": [
    "#### Problem 1. Write a numpy version of function myPi(n) to compute pi by Gregory series. Compare the run time with your version of last week.\n",
    "\n",
    "<img src=\"http://mathworld.wolfram.com/images/eps-gif/GregorySeries_1000.gif\">"
   ]
  },
  {
   "cell_type": "code",
   "execution_count": 30,
   "id": "5ccefcc1",
   "metadata": {},
   "outputs": [
    {
     "name": "stdout",
     "output_type": "stream",
     "text": [
      "Approximation of π using 10000 terms: 3.1414926536\n",
      "Time taken: 0.001540 seconds\n"
     ]
    }
   ],
   "source": [
    "import numpy as np\n",
    "import time \n",
    "\n",
    "def myPi(n):  \n",
    "    \n",
    "    #one liner to find pi value\n",
    "    approximation = 4 * np.sum((-1) ** np.arange(n) / (2 * np.arange(n) + 1))\n",
    "    \n",
    "    return approximation\n",
    "\n",
    "n = 10000  # number of terms\n",
    "start_time = time.time()  # start time\n",
    "result = myPi(n)\n",
    "end_time = time.time()    # end time\n",
    "time_taken = end_time - start_time\n",
    "\n",
    "print(f\"Approximation of π using {n} terms: {result:.10f}\")\n",
    "print(f\"Time taken: {time_taken:.6f} seconds\")"
   ]
  },
  {
   "cell_type": "code",
   "execution_count": 31,
   "id": "adbfe51b",
   "metadata": {
    "scrolled": true
   },
   "outputs": [
    {
     "name": "stdout",
     "output_type": "stream",
     "text": [
      "Approximation of π using 10000 terms: 3.1414926536\n",
      "Time taken: 0.001848 seconds\n"
     ]
    }
   ],
   "source": [
    "#last week code\n",
    "import time\n",
    "\n",
    "def myPi(n):\n",
    "    if n <= 0:\n",
    "        raise ValueError(\"Input must be a positive integer\")\n",
    "    \n",
    "    approximation = 0\n",
    "    sign = 1 \n",
    "\n",
    "    for k in range(n):\n",
    "        term = 1 / (2 * k + 1) * sign\n",
    "        approximation += term\n",
    "        sign *= -1\n",
    "        \n",
    "    approximation *= 4\n",
    "\n",
    "    return approximation\n",
    "\n",
    "n = 10000  # number of terms\n",
    "start_time = time.time()  # start time\n",
    "result = myPi(n)\n",
    "end_time = time.time()  # end time\n",
    "\n",
    "time_taken = end_time - start_time\n",
    "print(f\"Approximation of π using {n} terms: {result:.10f}\")\n",
    "print(f\"Time taken: {time_taken:.6f} seconds\")\n"
   ]
  },
  {
   "cell_type": "markdown",
   "id": "45878d19",
   "metadata": {},
   "source": [
    "### Comparison Result : Numpy version is much faster than conventional method"
   ]
  },
  {
   "cell_type": "markdown",
   "id": "0fa402e3",
   "metadata": {},
   "source": [
    "#### Problem 2. Write a one line function manhattan(p, q) to compute the manhattan distance of two points p, q in n-dimensional space, where p and q are lists with equal length.\n",
    "\n",
    "<img src=\"https://upload.wikimedia.org/wikipedia/commons/thumb/0/08/Manhattan_distance.svg/200px-Manhattan_distance.svg.png\">\n",
    "\n",
    "<img src=\"https://wikimedia.org/api/rest_v1/media/math/render/svg/02436c34fc9562eb170e2e2cfddbb3303075b28e\">"
   ]
  },
  {
   "cell_type": "code",
   "execution_count": 32,
   "id": "503f56a4",
   "metadata": {},
   "outputs": [
    {
     "name": "stdout",
     "output_type": "stream",
     "text": [
      "Manhattan distance between [1, 2, 3, 4, 5, 6] and [4, 5, 6, 7, 8, 9] is: 18\n"
     ]
    }
   ],
   "source": [
    "# one liner code for calculating distance\n",
    "distance = lambda p,q : np.sum(np.abs(np.array(p) - np.array(q)))\n",
    "\n",
    "# giving values to p and q\n",
    "p = [1, 2, 3, 4, 5, 6]\n",
    "q = [4, 5, 6, 7, 8, 9]\n",
    "\n",
    "# calling function to calculate distance\n",
    "result = distance(p, q)\n",
    "print(f\"Manhattan distance between {p} and {q} is: {result}\")"
   ]
  },
  {
   "cell_type": "markdown",
   "id": "a1549bd9",
   "metadata": {},
   "source": [
    "#### Problem 3. Write a one line numpy version of function correlation(x, y) to compute the correlation of two lists x, and y.\n",
    "\n",
    "The sample correlation coefficient formula is\n",
    "\n",
    "<img src=\"https://wikimedia.org/api/rest_v1/media/math/render/svg/332ae9dcde34d03f30ed6e1880af8b43327dd49c\">\n",
    "\n",
    "where ${\\overline {x}}$ and ${\\overline {y}}$ are the sample means of $[x1, x2, ..., xn]$ and $[y1, y2, ..., yn]$"
   ]
  },
  {
   "cell_type": "code",
   "execution_count": 33,
   "id": "46fff1cd",
   "metadata": {},
   "outputs": [
    {
     "name": "stdout",
     "output_type": "stream",
     "text": [
      "Correlation between x and y is: 0.9999999999999999\n"
     ]
    }
   ],
   "source": [
    "# one liner code to calculate correlation\n",
    "correlation = lambda x, y: np.corrcoef(x, y)[0, 1]\n",
    "\n",
    "# giving values to x and y\n",
    "x = [1, 2, 3, 4, 5]\n",
    "y = [6, 7, 8, 9, 10]\n",
    "\n",
    "# Calculate and print the correlation\n",
    "result = correlation(x, y)\n",
    "print(f\"Correlation between x and y is: {result}\")"
   ]
  },
  {
   "cell_type": "markdown",
   "id": "c861a75d",
   "metadata": {},
   "source": [
    "#### Problem 4. Write a one line code to return the first n fibonacci numbers using functional programming techniques. "
   ]
  },
  {
   "cell_type": "code",
   "execution_count": 35,
   "id": "5844ed47",
   "metadata": {},
   "outputs": [
    {
     "name": "stdout",
     "output_type": "stream",
     "text": [
      "10\n",
      "Value of n is 10\n",
      "The first 10 Fibonacci numbers are: [0, 1, 1, 2, 3, 5, 8, 13, 21, 34]\n"
     ]
    }
   ],
   "source": [
    "from functools import reduce\n",
    "\n",
    "# one liner code to calculate fibonacci\n",
    "fibonacci = lambda n: reduce(lambda x, _: x + [x[-2] + x[-1]], range(n - 2), [0, 1][:n])\n",
    "\n",
    "n = int(input())\n",
    "print(f\"Value of n is {n}\")\n",
    "series = fibonacci(n)\n",
    "print(f\"The first {n} Fibonacci numbers are: {series}\")"
   ]
  },
  {
   "cell_type": "code",
   "execution_count": null,
   "id": "51dc0f91",
   "metadata": {},
   "outputs": [],
   "source": []
  }
 ],
 "metadata": {
  "kernelspec": {
   "display_name": "Python 3 (ipykernel)",
   "language": "python",
   "name": "python3"
  },
  "language_info": {
   "codemirror_mode": {
    "name": "ipython",
    "version": 3
   },
   "file_extension": ".py",
   "mimetype": "text/x-python",
   "name": "python",
   "nbconvert_exporter": "python",
   "pygments_lexer": "ipython3",
   "version": "3.9.13"
  }
 },
 "nbformat": 4,
 "nbformat_minor": 5
}
