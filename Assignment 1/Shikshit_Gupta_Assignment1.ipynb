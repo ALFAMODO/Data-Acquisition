{
 "cells": [
  {
   "cell_type": "markdown",
   "id": "48f2efd7",
   "metadata": {},
   "source": [
    "### Lab exercise of today\n",
    "#### 1. Write a python function to compute the sum of 1, 2, 3, ... to x by a given integer x. I expect recursion and tail recursion.\n",
    "\n"
   ]
  },
  {
   "cell_type": "code",
   "execution_count": 14,
   "id": "290147e8",
   "metadata": {},
   "outputs": [
    {
     "name": "stdout",
     "output_type": "stream",
     "text": [
      "10\n",
      "Recursion:  56\n",
      "Tail Recursion:  56\n"
     ]
    }
   ],
   "source": [
    "def rec(x):\n",
    "    if (x == 0):\n",
    "        return 1\n",
    "    else:\n",
    "        return x + rec(x-1)\n",
    "    \n",
    "def tail_rec(x, temp=1):\n",
    "    if x == 0:\n",
    "        return temp\n",
    "    else:\n",
    "        return tail_rec(x - 1, x + temp)\n",
    "\n",
    "x = int(input())\n",
    "\n",
    "res1 = rec(x)\n",
    "res2 = tail_rec(x)\n",
    "\n",
    "print(\"Recursion: \", res1)\n",
    "print(\"Tail Recursion: \", res2)"
   ]
  },
  {
   "cell_type": "markdown",
   "id": "60573b97",
   "metadata": {},
   "source": [
    "#### 2. The Fibonacci sequence 1, 1, 2, 3, 5, 8, 13, 21…… starts with two 1s, and each term afterwards is the sum of its two predecessors. Please write a function, Fib(n), which takes n as the input parameter. It will return the n-th number in the Fibonacci sequence\n",
    "\n"
   ]
  },
  {
   "cell_type": "code",
   "execution_count": 31,
   "id": "964cb4a3",
   "metadata": {},
   "outputs": [
    {
     "name": "stdout",
     "output_type": "stream",
     "text": [
      "N-th number is:  55\n"
     ]
    }
   ],
   "source": [
    "def fibo(n, x, y):\n",
    "    if(n==0):\n",
    "        return y\n",
    "    x = x + y\n",
    "    y = x + y \n",
    "    return fibo(n - 2, x, y)\n",
    "    \n",
    "\n",
    "n = 10\n",
    "x = 1\n",
    "y = 1\n",
    "res = fibo(n-2, x, y)\n",
    "print(\"N-th number is: \", res)\n"
   ]
  },
  {
   "cell_type": "markdown",
   "id": "5d4f0a7a",
   "metadata": {},
   "source": [
    "### Homework\n",
    "\n",
    "#### Problem 1. Write a function squareRoot(x) to compute the square root of the positive number by newton-raphson method.\n"
   ]
  },
  {
   "cell_type": "code",
   "execution_count": 32,
   "id": "b8bf29fd",
   "metadata": {},
   "outputs": [
    {
     "name": "stdout",
     "output_type": "stream",
     "text": [
      "The square root of 25 is approximately 5.000000\n"
     ]
    }
   ],
   "source": [
    "def squareRoot(x):\n",
    "    if x < 0:\n",
    "        raise ValueError(\"Input must be a positive number\")\n",
    "    \n",
    "    guess = x / 2.0\n",
    "    \n",
    "    tolerance = 1e-6\n",
    "    \n",
    "    while abs(guess * guess - x) > tolerance:\n",
    "        guess = 0.5 * (guess + x / guess)\n",
    "    \n",
    "    return guess\n",
    "\n",
    "# Example usage:\n",
    "x = 25 \n",
    "result = squareRoot(x)\n",
    "print(f\"The square root of {x} is approximately {result:.6f}\")\n"
   ]
  },
  {
   "cell_type": "markdown",
   "id": "bb0c0d70",
   "metadata": {},
   "source": [
    "#### Problem 2. Write a function myPi(n) to compute pi by Gregory series."
   ]
  },
  {
   "cell_type": "code",
   "execution_count": 35,
   "id": "84831206",
   "metadata": {},
   "outputs": [
    {
     "name": "stdout",
     "output_type": "stream",
     "text": [
      "Approximation of π using 1000 terms: 3.1405926538\n"
     ]
    }
   ],
   "source": [
    "def myPi(n):\n",
    "    if n <= 0:\n",
    "        raise ValueError(\"Input must be a positive integer\")\n",
    "    \n",
    "    approximation = 0\n",
    "    sign = 1 \n",
    "\n",
    "    for k in range(n):\n",
    "        term = 1 / (2 * k + 1) * sign\n",
    "        approximation += term\n",
    "        sign *= -1\n",
    "        \n",
    "    approximation *= 4\n",
    "\n",
    "    return approximation\n",
    "\n",
    "\n",
    "n = 1000 \n",
    "result = myPi(n)\n",
    "print(f\"Approximation of π using {n} terms: {result:.10f}\")\n"
   ]
  },
  {
   "cell_type": "markdown",
   "id": "ee58c0de",
   "metadata": {},
   "source": [
    "#### Problem 3. Filtering Prime Numbers: write Python code to return a list of prime numbers within range from 0 to 1000"
   ]
  },
  {
   "cell_type": "code",
   "execution_count": 37,
   "id": "db2908e8",
   "metadata": {},
   "outputs": [
    {
     "name": "stdout",
     "output_type": "stream",
     "text": [
      "[2, 3, 5, 7, 11, 13, 17, 19, 23, 29, 31, 37, 41, 43, 47, 53, 59, 61, 67, 71, 73, 79, 83, 89, 97, 101, 103, 107, 109, 113, 127, 131, 137, 139, 149, 151, 157, 163, 167, 173, 179, 181, 191, 193, 197, 199, 211, 223, 227, 229, 233, 239, 241, 251, 257, 263, 269, 271, 277, 281, 283, 293, 307, 311, 313, 317, 331, 337, 347, 349, 353, 359, 367, 373, 379, 383, 389, 397, 401, 409, 419, 421, 431, 433, 439, 443, 449, 457, 461, 463, 467, 479, 487, 491, 499, 503, 509, 521, 523, 541, 547, 557, 563, 569, 571, 577, 587, 593, 599, 601, 607, 613, 617, 619, 631, 641, 643, 647, 653, 659, 661, 673, 677, 683, 691, 701, 709, 719, 727, 733, 739, 743, 751, 757, 761, 769, 773, 787, 797, 809, 811, 821, 823, 827, 829, 839, 853, 857, 859, 863, 877, 881, 883, 887, 907, 911, 919, 929, 937, 941, 947, 953, 967, 971, 977, 983, 991, 997]\n"
     ]
    }
   ],
   "source": [
    "def is_prime(n):\n",
    "    if n <= 1:\n",
    "        return False\n",
    "    if n <= 3:\n",
    "        return True\n",
    "    if n % 2 == 0 or n % 3 == 0:\n",
    "        return False\n",
    "    i = 5\n",
    "    while i * i <= n:\n",
    "        if n % i == 0 or n % (i + 2) == 0:\n",
    "            return False\n",
    "        i += 6\n",
    "    return True\n",
    "\n",
    "def prime_numbers(start, end):\n",
    "    prime_list = []\n",
    "    for number in range(max(start, 2), end + 1):\n",
    "        if is_prime(number):\n",
    "            prime_list.append(number)\n",
    "    return prime_list\n",
    "\n",
    "start_range = 0\n",
    "end_range = 1000\n",
    "prime_list = prime_numbers(start_range, end_range)\n",
    "print(prime_list)\n"
   ]
  },
  {
   "cell_type": "code",
   "execution_count": null,
   "id": "c36a8d03",
   "metadata": {},
   "outputs": [],
   "source": []
  }
 ],
 "metadata": {
  "kernelspec": {
   "display_name": "Python 3 (ipykernel)",
   "language": "python",
   "name": "python3"
  },
  "language_info": {
   "codemirror_mode": {
    "name": "ipython",
    "version": 3
   },
   "file_extension": ".py",
   "mimetype": "text/x-python",
   "name": "python",
   "nbconvert_exporter": "python",
   "pygments_lexer": "ipython3",
   "version": "3.9.13"
  }
 },
 "nbformat": 4,
 "nbformat_minor": 5
}
